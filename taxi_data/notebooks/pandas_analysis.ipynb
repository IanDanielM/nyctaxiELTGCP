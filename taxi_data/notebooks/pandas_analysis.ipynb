{
 "cells": [
  {
   "cell_type": "code",
   "execution_count": 4,
   "metadata": {},
   "outputs": [],
   "source": [
    "from duckdb.experimental.spark.sql import SparkSession as session\n",
    "from duckdb.experimental.spark.sql.functions import lit, col\n",
    "import duckdb\n",
    "import pandas as pd\n"
   ]
  },
  {
   "cell_type": "code",
   "execution_count": 11,
   "metadata": {},
   "outputs": [
    {
     "name": "stdout",
     "output_type": "stream",
     "text": [
      "┌───────────────────┬──────────────┐\n",
      "│ trip_duration_bin │ distance_bin │\n",
      "│      varchar      │   varchar    │\n",
      "├───────────────────┼──────────────┤\n",
      "│ medium            │ 5+ miles     │\n",
      "│ medium            │ 5+ miles     │\n",
      "│ short             │ 0-2 miles    │\n",
      "│ short             │ 0-2 miles    │\n",
      "│ short             │ 2-5 miles    │\n",
      "└───────────────────┴──────────────┘\n",
      "\n",
      "None\n"
     ]
    }
   ],
   "source": [
    "spark = session.builder.getOrCreate()\n",
    "conn = duckdb.connect('/home/ian/nyc_taxi_project/nyctaxi.duckdb', read_only=True)\n",
    "data = conn.execute(\"select * from main_gold.trip_metrics limit 5\")\n",
    "\n",
    "pandas_df = pd.DataFrame(data.fetch_df())\n",
    "\n",
    "df = spark.createDataFrame(pandas_df)\n",
    "df = df.withColumn(\n",
    "    'borough', lit('EWR')\n",
    ")\n",
    "res = df.select(\n",
    "    col('trip_duration_bin'),\n",
    "    col('distance_bin')\n",
    ").show()\n",
    "\n",
    "print(res)"
   ]
  }
 ],
 "metadata": {
  "kernelspec": {
   "display_name": ".venv",
   "language": "python",
   "name": "python3"
  },
  "language_info": {
   "codemirror_mode": {
    "name": "ipython",
    "version": 3
   },
   "file_extension": ".py",
   "mimetype": "text/x-python",
   "name": "python",
   "nbconvert_exporter": "python",
   "pygments_lexer": "ipython3",
   "version": "3.10.12"
  }
 },
 "nbformat": 4,
 "nbformat_minor": 2
}
